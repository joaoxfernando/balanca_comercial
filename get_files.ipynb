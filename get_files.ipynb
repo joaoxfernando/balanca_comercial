{
 "cells": [
  {
   "cell_type": "code",
   "execution_count": 1,
   "metadata": {},
   "outputs": [],
   "source": [
    "from get_files import get_files"
   ]
  },
  {
   "cell_type": "code",
   "execution_count": 2,
   "metadata": {},
   "outputs": [
    {
     "name": "stdout",
     "output_type": "stream",
     "text": [
      "Baixando o arquivo EXP_2024.csv, isso pode levar alguns segundos/minutos... não feche a aplicação!\n",
      "\n",
      "Arquivo EXP_2024.csv salvo com sucesso!\n",
      "Baixando o arquivo IMP_2024.csv, isso pode levar alguns segundos/minutos... não feche a aplicação!\n",
      "\n",
      "Arquivo IMP_2024.csv salvo com sucesso!\n"
     ]
    }
   ],
   "source": [
    "ano = int(input('Digite o ano que deseja baixar os arquivos: '))\n",
    "\n",
    "get_files(ano)"
   ]
  },
  {
   "cell_type": "code",
   "execution_count": null,
   "metadata": {},
   "outputs": [],
   "source": []
  }
 ],
 "metadata": {
  "kernelspec": {
   "display_name": "base",
   "language": "python",
   "name": "python3"
  },
  "language_info": {
   "codemirror_mode": {
    "name": "ipython",
    "version": 3
   },
   "file_extension": ".py",
   "mimetype": "text/x-python",
   "name": "python",
   "nbconvert_exporter": "python",
   "pygments_lexer": "ipython3",
   "version": "3.10.9"
  }
 },
 "nbformat": 4,
 "nbformat_minor": 2
}
