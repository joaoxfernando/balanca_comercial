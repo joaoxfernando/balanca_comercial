{
 "cells": [
  {
   "cell_type": "code",
   "execution_count": 1,
   "metadata": {},
   "outputs": [],
   "source": [
    "import wget\n",
    "import dotenv\n",
    "import os"
   ]
  },
  {
   "cell_type": "code",
   "execution_count": 3,
   "metadata": {},
   "outputs": [],
   "source": [
    "ano = int(input('Digite o ano que deseja baixar os balanços: '))\n",
    "files = [f'https://balanca.economia.gov.br/balanca/bd/comexstat-bd/ncm/EXP_{ano}.csv', f'https://balanca.economia.gov.br/balanca/bd/comexstat-bd/ncm/IMP_{ano}.csv']"
   ]
  },
  {
   "cell_type": "code",
   "execution_count": 4,
   "metadata": {},
   "outputs": [],
   "source": [
    "dotenv.load_dotenv('.env')\n",
    "save_path_dir = os.getenv('PATH_DIR')\n",
    "save_path_dir = r'{}'.format(save_path_dir)"
   ]
  },
  {
   "cell_type": "code",
   "execution_count": 7,
   "metadata": {},
   "outputs": [
    {
     "name": "stdout",
     "output_type": "stream",
     "text": [
      "Arquivo EXP_2024.csv salvo com sucesso!\n",
      "Arquivo IMP_2024.csv salvo com sucesso!\n"
     ]
    }
   ],
   "source": [
    "for file in files:\n",
    "    if os.path.basename(file).find('EXP') >= 0:\n",
    "        filename = save_path_dir+'Exportação/'+os.path.basename(file)\n",
    "        if os.path.exists(filename):\n",
    "            os.remove(filename) \n",
    "        wget.download(file, os.path.join(save_path_dir, 'Exportação/'))\n",
    "    else:\n",
    "        filename = save_path_dir+'Importação/'+os.path.basename(file)\n",
    "        if os.path.exists(filename):\n",
    "            os.remove(filename)\n",
    "        wget.download(file, save_path_dir+'Importação/')\n",
    "    print(f'Arquivo {os.path.basename(file)} salvo com sucesso!')"
   ]
  },
  {
   "cell_type": "code",
   "execution_count": null,
   "metadata": {},
   "outputs": [],
   "source": []
  }
 ],
 "metadata": {
  "kernelspec": {
   "display_name": "base",
   "language": "python",
   "name": "python3"
  },
  "language_info": {
   "codemirror_mode": {
    "name": "ipython",
    "version": 3
   },
   "file_extension": ".py",
   "mimetype": "text/x-python",
   "name": "python",
   "nbconvert_exporter": "python",
   "pygments_lexer": "ipython3",
   "version": "3.10.9"
  }
 },
 "nbformat": 4,
 "nbformat_minor": 2
}
