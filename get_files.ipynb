{
 "cells": [
  {
   "cell_type": "code",
   "execution_count": 1,
   "metadata": {},
   "outputs": [
    {
     "data": {
      "text/plain": [
       "True"
      ]
     },
     "execution_count": 1,
     "metadata": {},
     "output_type": "execute_result"
    }
   ],
   "source": [
    "import wget\n",
    "import dotenv\n",
    "import os"
   ]
  },
  {
   "cell_type": "code",
   "execution_count": 5,
   "metadata": {},
   "outputs": [],
   "source": [
    "ano = int(input('Digite o ano que deseja baixar os balanços: '))\n"
   ]
  },
  {
   "cell_type": "code",
   "execution_count": 6,
   "metadata": {},
   "outputs": [
    {
     "data": {
      "text/plain": [
       "['https://balanca.economia.gov.br/balanca/bd/comexstat-bd/ncm/EXP_2024.csv',\n",
       " 'https://balanca.economia.gov.br/balanca/bd/comexstat-bd/ncm/IMP_2024.csv']"
      ]
     },
     "execution_count": 6,
     "metadata": {},
     "output_type": "execute_result"
    }
   ],
   "source": [
    "files = [f'https://balanca.economia.gov.br/balanca/bd/comexstat-bd/ncm/EXP_{ano}.csv', f'https://balanca.economia.gov.br/balanca/bd/comexstat-bd/ncm/IMP_{ano}.csv']\n",
    "files"
   ]
  },
  {
   "cell_type": "code",
   "execution_count": 7,
   "metadata": {},
   "outputs": [
    {
     "data": {
      "text/plain": [
       "'I:/Cursos/Power BI/PowerBi Especialista/1. Power BI Especialista/8. Módulo 1 - Projeto de Conclusão/Material/DATAB_Projeto_Level_1/Projeto Level 1/Dados/Fatos/'"
      ]
     },
     "execution_count": 7,
     "metadata": {},
     "output_type": "execute_result"
    }
   ],
   "source": [
    "dotenv.load_dotenv('.env')\n",
    "save_path_dir = os.getenv('PATH_DIR')\n",
    "save_path_dir = r'{}'.format(save_path_dir)\n"
   ]
  },
  {
   "cell_type": "code",
   "execution_count": 8,
   "metadata": {},
   "outputs": [
    {
     "name": "stdout",
     "output_type": "stream",
     "text": [
      "Arquivos baixados com sucesso!\n",
      "Arquivos baixados com sucesso!\n"
     ]
    }
   ],
   "source": [
    "for file in files:\n",
    "    if os.path.basename(file).find('EXP') >= 0:\n",
    "        filename = save_path_dir+'Exportação/'+os.path.basename(file)\n",
    "        if os.path.exists(filename):\n",
    "            os.remove(filename) \n",
    "        wget.download(file, os.path.join(save_path_dir, 'Exportação/'))\n",
    "    else:\n",
    "        filename = save_path_dir+'Importação/'+os.path.basename(file)\n",
    "        if os.path.exists(filename):\n",
    "            os.remove(filename)\n",
    "        wget.download(file, save_path_dir+'Importação/')\n",
    "    print('Arquivos baixados com sucesso!')"
   ]
  }
 ],
 "metadata": {
  "kernelspec": {
   "display_name": "base",
   "language": "python",
   "name": "python3"
  },
  "language_info": {
   "codemirror_mode": {
    "name": "ipython",
    "version": 3
   },
   "file_extension": ".py",
   "mimetype": "text/x-python",
   "name": "python",
   "nbconvert_exporter": "python",
   "pygments_lexer": "ipython3",
   "version": "3.10.9"
  }
 },
 "nbformat": 4,
 "nbformat_minor": 2
}
